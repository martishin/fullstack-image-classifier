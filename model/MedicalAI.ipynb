{
 "cells": [
  {
   "cell_type": "code",
   "execution_count": 5,
   "id": "initial_id",
   "metadata": {
    "collapsed": true,
    "ExecuteTime": {
     "end_time": "2024-01-21T19:58:57.284914Z",
     "start_time": "2024-01-21T19:58:57.283049Z"
    }
   },
   "outputs": [],
   "source": [
    "import os\n",
    "\n",
    "if not os.path.exists('data'):\n",
    "    !kaggle datasets download -d paultimothymooney/chest-xray-pneumonia --force\n",
    "\n",
    "    os.makedirs('data', exist_ok=True)\n",
    "\n",
    "    !unzip -q chest-xray-pneumonia.zip -d data"
   ]
  },
  {
   "cell_type": "code",
   "outputs": [],
   "source": [],
   "metadata": {
    "collapsed": false,
    "ExecuteTime": {
     "end_time": "2024-01-21T19:58:55.366815Z",
     "start_time": "2024-01-21T19:58:55.351361Z"
    }
   },
   "id": "19f4066ce51b0658",
   "execution_count": 4
  }
 ],
 "metadata": {
  "kernelspec": {
   "display_name": "Python 3",
   "language": "python",
   "name": "python3"
  },
  "language_info": {
   "codemirror_mode": {
    "name": "ipython",
    "version": 2
   },
   "file_extension": ".py",
   "mimetype": "text/x-python",
   "name": "python",
   "nbconvert_exporter": "python",
   "pygments_lexer": "ipython2",
   "version": "2.7.6"
  }
 },
 "nbformat": 4,
 "nbformat_minor": 5
}
